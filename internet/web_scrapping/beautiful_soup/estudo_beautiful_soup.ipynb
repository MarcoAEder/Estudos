{
 "cells": [
  {
   "cell_type": "markdown",
   "id": "a402d35d",
   "metadata": {},
   "source": [
    "# Documentação BeautifulSoup\n",
    "\n",
    "https://www.crummy.com/software/BeautifulSoup/bs4/doc.ptbr/"
   ]
  },
  {
   "cell_type": "markdown",
   "id": "2a80cb84",
   "metadata": {},
   "source": [
    "# Exercício 01 e 02\n",
    "\n",
    "#03 - BeautifulSoup: Buscando Notícias na Web | Web Scraping com Python -- https://www.youtube.com/watch?v=SIUNTvtCM6c"
   ]
  },
  {
   "cell_type": "code",
   "execution_count": 55,
   "id": "b6433a26",
   "metadata": {},
   "outputs": [
    {
     "name": "stdout",
     "output_type": "stream",
     "text": [
      "Título: Ataque à democracia é 'anomalia' que deve ser combatida, diz Pacheco\n"
     ]
    }
   ],
   "source": [
    "import requests\n",
    "from bs4 import BeautifulSoup\n",
    "\n",
    "# Obtendo e extraindo conteúdo HTML da página.\n",
    "response = requests.get('https://g1.globo.com/')\n",
    "content = response.content\n",
    "\n",
    "# Convertendo site para objeto BS.\n",
    "site = BeautifulSoup(content, 'html.parser')\n",
    "# print(site.prettify())    ## Imprime a página HTML organizada.\n",
    "\n",
    "# HTML da notícia.\n",
    "noticia = site.find(\"div\", attrs = {\"class\": \"feed-post-body\"})\n",
    "\n",
    "# Título.\n",
    "titulo = noticia.find(\"a\", attrs = {\"class\": \"feed-post-link gui-color-primary gui-color-hover\"})\n",
    "\n",
    "# Subtítulo.\n",
    "subtitulo = noticia.find(\"div\", attrs = {\"class\": \"feed-post-body-resumo\"})\n",
    "\n",
    "## Obs.: Acrescentei o teste lógico para que não retorne erro quando não houver subtítulo na notícia.\n",
    "if (subtitulo):\n",
    "    print(f\"Título: {titulo.text}\\nSubtítulo: {subtitulo.text}\")\n",
    "\n",
    "else:\n",
    "    print(f\"Título: {titulo.text}\")"
   ]
  },
  {
   "cell_type": "markdown",
   "id": "4151db80",
   "metadata": {},
   "source": [
    "#04 - Automatizando a Busca de Notícias na Web | Web Scraping com Python -- https://www.youtube.com/watch?v=gLH2RHYvBU4"
   ]
  },
  {
   "cell_type": "code",
   "execution_count": 11,
   "id": "2555110a",
   "metadata": {
    "scrolled": false
   },
   "outputs": [
    {
     "name": "stdout",
     "output_type": "stream",
     "text": [
      "20% da Bacia Amazônica estão altamente impactados, mostra estudo\n",
      "Levantamento mostra ainda importância das terras indígenas na proteção dos rios.\n",
      "https://g1.globo.com/jornal-hoje/noticia/2022/05/05/20percent-da-bacia-amazonica-esta-impactada-por-atividades-como-mineracao-diz-estudo.ghtml\n",
      "\n",
      "Sem imprensa livre, Constituição vira 'folha de papel', diz Fux\n",
      "Presidente do STF ressaltou importância do jornalismo profissional para a democracia.\n",
      "https://g1.globo.com/politica/noticia/2022/05/05/em-um-pais-sem-imprensa-livre-constituicao-e-mera-folha-de-papel-diz-fux.ghtml\n",
      "\n",
      "Estudante relata estupro na Sapucaí: 'Tocou minhas partes íntimas'\n",
      "Vítima foi agarrada no recuo da bateria e ficou com hematomas no corpo; polícia investiga.\n",
      "https://g1.globo.com/rj/rio-de-janeiro/noticia/2022/05/05/policia-investiga-caso-de-estupro-na-sapucai-no-sabado-das-campeas-essa-dor-vai-ficar-para-sempre-diz-vitima.ghtml\n",
      "\n",
      "'Desci 9 andares não sei como', diz mulher que fugiu após 3 dias de tortura\n",
      "https://g1.globo.com/rj/rio-de-janeiro/noticia/2022/05/05/jornalista-torturada-por-tres-dias-teve-que-descer-9-andares-de-escada-para-fugir-de-agressor.ghtml\n",
      "\n",
      "Mulheres poderão sacar FGTS para pagar creche e cursos de qualificação\n",
      "https://g1.globo.com/economia/noticia/2022/05/05/novo-pacote-libera-saque-do-fgts-para-mulheres-pagarem-creche-e-qualificacao-profissional.ghtml\n",
      "\n",
      "Brasil ganhou neste ano 2 milhões de eleitores jovens, diz Fachin\n",
      "https://g1.globo.com/politica/eleicoes/2022/noticia/2022/05/05/fachin-balanco-titulos-de-eleitor.ghtml\n",
      "\n",
      "Procuradoria pede que inquérito sobre Milton Ribeiro deixe o STF\n",
      "PGR argumenta que caso deve ir para a Justiça do DF porque ex-ministro perdeu foro.\n",
      "https://g1.globo.com/politica/noticia/2022/05/05/pgr-pede-ao-stf-que-inquerito-sobre-milton-ribeiro-seja-enviado-a-justica-federal-em-brasilia.ghtml\n",
      "\n",
      "Lula diz que Bolsonaro 'só atende aos filhos dele e a milicianos' \n",
      "https://g1.globo.com/sp/campinas-regiao/eleicoes/2022/noticia/2022/05/05/lula-diz-que-bolsonaro-so-atende-os-filhos-dele-e-os-milicianos-que-o-cercam.ghtml\n",
      "\n",
      "Globoplay é 1ª plataforma confirmada na CCXP22, que será presencial\n",
      "Evento ocorrerá entre 1 e 4 de dezembro em SP.\n",
      "https://g1.globo.com/pop-arte/noticia/2022/05/05/globoplay-e-a-primeira-plataforma-confirmada-na-ccxp22.ghtml\n",
      "\n"
     ]
    },
    {
     "data": {
      "text/html": [
       "<div>\n",
       "<style scoped>\n",
       "    .dataframe tbody tr th:only-of-type {\n",
       "        vertical-align: middle;\n",
       "    }\n",
       "\n",
       "    .dataframe tbody tr th {\n",
       "        vertical-align: top;\n",
       "    }\n",
       "\n",
       "    .dataframe thead th {\n",
       "        text-align: right;\n",
       "    }\n",
       "</style>\n",
       "<table border=\"1\" class=\"dataframe\">\n",
       "  <thead>\n",
       "    <tr style=\"text-align: right;\">\n",
       "      <th></th>\n",
       "      <th>Título</th>\n",
       "      <th>Subtítulo</th>\n",
       "      <th>Link</th>\n",
       "    </tr>\n",
       "  </thead>\n",
       "  <tbody>\n",
       "    <tr>\n",
       "      <th>0</th>\n",
       "      <td>20% da Bacia Amazônica estão altamente impacta...</td>\n",
       "      <td>Levantamento mostra ainda importância das terr...</td>\n",
       "      <td>https://g1.globo.com/jornal-hoje/noticia/2022/...</td>\n",
       "    </tr>\n",
       "    <tr>\n",
       "      <th>1</th>\n",
       "      <td>Sem imprensa livre, Constituição vira 'folha d...</td>\n",
       "      <td>Presidente do STF ressaltou importância do jor...</td>\n",
       "      <td>https://g1.globo.com/politica/noticia/2022/05/...</td>\n",
       "    </tr>\n",
       "    <tr>\n",
       "      <th>2</th>\n",
       "      <td>Estudante relata estupro na Sapucaí: 'Tocou mi...</td>\n",
       "      <td>Vítima foi agarrada no recuo da bateria e fico...</td>\n",
       "      <td>https://g1.globo.com/rj/rio-de-janeiro/noticia...</td>\n",
       "    </tr>\n",
       "    <tr>\n",
       "      <th>3</th>\n",
       "      <td>'Desci 9 andares não sei como', diz mulher que...</td>\n",
       "      <td></td>\n",
       "      <td>https://g1.globo.com/rj/rio-de-janeiro/noticia...</td>\n",
       "    </tr>\n",
       "    <tr>\n",
       "      <th>4</th>\n",
       "      <td>Mulheres poderão sacar FGTS para pagar creche ...</td>\n",
       "      <td></td>\n",
       "      <td>https://g1.globo.com/economia/noticia/2022/05/...</td>\n",
       "    </tr>\n",
       "    <tr>\n",
       "      <th>5</th>\n",
       "      <td>Brasil ganhou neste ano 2 milhões de eleitores...</td>\n",
       "      <td></td>\n",
       "      <td>https://g1.globo.com/politica/eleicoes/2022/no...</td>\n",
       "    </tr>\n",
       "    <tr>\n",
       "      <th>6</th>\n",
       "      <td>Procuradoria pede que inquérito sobre Milton R...</td>\n",
       "      <td>PGR argumenta que caso deve ir para a Justiça ...</td>\n",
       "      <td>https://g1.globo.com/politica/noticia/2022/05/...</td>\n",
       "    </tr>\n",
       "    <tr>\n",
       "      <th>7</th>\n",
       "      <td>Lula diz que Bolsonaro 'só atende aos filhos d...</td>\n",
       "      <td></td>\n",
       "      <td>https://g1.globo.com/sp/campinas-regiao/eleico...</td>\n",
       "    </tr>\n",
       "    <tr>\n",
       "      <th>8</th>\n",
       "      <td>Globoplay é 1ª plataforma confirmada na CCXP22...</td>\n",
       "      <td>Evento ocorrerá entre 1 e 4 de dezembro em SP.</td>\n",
       "      <td>https://g1.globo.com/pop-arte/noticia/2022/05/...</td>\n",
       "    </tr>\n",
       "  </tbody>\n",
       "</table>\n",
       "</div>"
      ],
      "text/plain": [
       "                                              Título  \\\n",
       "0  20% da Bacia Amazônica estão altamente impacta...   \n",
       "1  Sem imprensa livre, Constituição vira 'folha d...   \n",
       "2  Estudante relata estupro na Sapucaí: 'Tocou mi...   \n",
       "3  'Desci 9 andares não sei como', diz mulher que...   \n",
       "4  Mulheres poderão sacar FGTS para pagar creche ...   \n",
       "5  Brasil ganhou neste ano 2 milhões de eleitores...   \n",
       "6  Procuradoria pede que inquérito sobre Milton R...   \n",
       "7  Lula diz que Bolsonaro 'só atende aos filhos d...   \n",
       "8  Globoplay é 1ª plataforma confirmada na CCXP22...   \n",
       "\n",
       "                                           Subtítulo  \\\n",
       "0  Levantamento mostra ainda importância das terr...   \n",
       "1  Presidente do STF ressaltou importância do jor...   \n",
       "2  Vítima foi agarrada no recuo da bateria e fico...   \n",
       "3                                                      \n",
       "4                                                      \n",
       "5                                                      \n",
       "6  PGR argumenta que caso deve ir para a Justiça ...   \n",
       "7                                                      \n",
       "8     Evento ocorrerá entre 1 e 4 de dezembro em SP.   \n",
       "\n",
       "                                                Link  \n",
       "0  https://g1.globo.com/jornal-hoje/noticia/2022/...  \n",
       "1  https://g1.globo.com/politica/noticia/2022/05/...  \n",
       "2  https://g1.globo.com/rj/rio-de-janeiro/noticia...  \n",
       "3  https://g1.globo.com/rj/rio-de-janeiro/noticia...  \n",
       "4  https://g1.globo.com/economia/noticia/2022/05/...  \n",
       "5  https://g1.globo.com/politica/eleicoes/2022/no...  \n",
       "6  https://g1.globo.com/politica/noticia/2022/05/...  \n",
       "7  https://g1.globo.com/sp/campinas-regiao/eleico...  \n",
       "8  https://g1.globo.com/pop-arte/noticia/2022/05/...  "
      ]
     },
     "metadata": {},
     "output_type": "display_data"
    },
    {
     "name": "stdout",
     "output_type": "stream",
     "text": [
      "Wall time: 359 ms\n"
     ]
    }
   ],
   "source": [
    "%%time\n",
    "\n",
    "import requests\n",
    "from bs4 import BeautifulSoup\n",
    "import pandas as pd\n",
    "\n",
    "## Obtendo e extraindo conteúdo HTML da página.\n",
    "response = requests.get('https://g1.globo.com/')\n",
    "content = response.content\n",
    "\n",
    "## Convertendo site para objeto BS.\n",
    "site = BeautifulSoup(content, 'html.parser')\n",
    "# print(site.prettify())\n",
    "\n",
    "noticias = site.findAll(\"div\", attrs = {\"class\": \"feed-post-body\"})\n",
    "# print(noticias[0].prettify())\n",
    "\n",
    "lista_noticias = []\n",
    "for noticia in noticias:\n",
    "    \n",
    "    ## Título.\n",
    "    titulo = noticia.find(\"a\", attrs = {\"class\": \"feed-post-link gui-color-primary gui-color-hover\"})\n",
    "    print(titulo.text)    ## Visualizando título.\n",
    "\n",
    "    ## Subtítulo.\n",
    "    subtitulo = noticia.find(\"div\", attrs = {\"class\": \"feed-post-body-resumo\"})\n",
    "    \n",
    "    if (subtitulo):\n",
    "        print(subtitulo.text)    ## Visualizando subtítulo.\n",
    "        lista_noticias.append([titulo.text, subtitulo.text, titulo[\"href\"]])\n",
    "    \n",
    "    else:\n",
    "        lista_noticias.append([titulo.text, \"\", titulo[\"href\"]])\n",
    "    \n",
    "    print(titulo[\"href\"])    ## Visualizando link.\n",
    "    print()\n",
    "\n",
    "df_noticias = pd.DataFrame(lista_noticias, columns = [\"Título\", \"Subtítulo\", \"Link\"])\n",
    "df_noticias.to_excel(\"arquivos/noticias.xlsx\", index = False)    ## Exportanto arquivo xlsx.\n",
    "\n",
    "display(df_noticias)    ## Visualizando dataframe."
   ]
  },
  {
   "cell_type": "markdown",
   "id": "f12e1466",
   "metadata": {},
   "source": [
    "# Exercício 03\n",
    "\n",
    "#PYTHON e #WEBScrapping - #COTAÇÃO DÓLAR EM TEMPO REAL! - BeautifulSoup (Sopa linda) e Requests -- https://www.youtube.com/watch?v=lVHojLys4l8\n",
    "\n",
    "#### Obs.: Acrescentei a extração do euro, bitcoin e data da cotação/extração."
   ]
  },
  {
   "cell_type": "code",
   "execution_count": 46,
   "id": "aee173ec",
   "metadata": {},
   "outputs": [
    {
     "name": "stdout",
     "output_type": "stream",
     "text": [
      "Dólar: 5,03\n",
      "Euro: 5,30\n",
      "Bitcoin: 195.246,24\n",
      "Data e Hora: 4 de mai. 13:56 UTC\n"
     ]
    }
   ],
   "source": [
    "import requests\n",
    "from bs4 import BeautifulSoup\n",
    "\n",
    "## Definindo cabeçalho.\n",
    "headers = {'User-Agent': 'Mozilla/5.0 (Windows NT 10.0; Win64; x64; rv:99.0) Gecko/20100101 Firefox/99.0'}\n",
    "\n",
    "## Fazendo requisições das páginas.\n",
    "cotacao_dolar = requests.get('https://www.google.com/search?client=firefox-b-d&q=d%C3%B3lar', headers = headers)\n",
    "cotacao_euro = requests.get('https://www.google.com/search?client=firefox-b-d&q=euro',  headers = headers)\n",
    "cotacao_btc = requests.get('https://www.google.com/search?client=firefox-b-d&q=bitcoin', headers = headers)\n",
    "\n",
    "## Extraindo valores.\n",
    "# Dólar.\n",
    "site_dolar = BeautifulSoup(cotacao_dolar.content, 'html.parser')\n",
    "valor_dolar = site_dolar.find_all('span', attrs = {'class': 'DFlfde SwHCTb'})\n",
    "data = site_dolar.find_all('div', attrs = {'class': 'hqAUc'})\n",
    "\n",
    "# Euro.\n",
    "site_euro = BeautifulSoup(cotacao_euro.content, 'html.parser')\n",
    "valor_euro = site_euro.find_all('span', attrs = {'class': 'DFlfde SwHCTb'})\n",
    "\n",
    "# Bitcoin.\n",
    "site_btc = BeautifulSoup(cotacao_btc.content, 'html.parser')\n",
    "valor_btc = site_btc.find_all('span', attrs = {'class': 'pclqee'})\n",
    "\n",
    "## Visualizando cotações.\n",
    "print(f\"Dólar: {valor_dolar[0].text}\")\n",
    "print(f\"Euro: {valor_euro[0].text}\")\n",
    "print(f\"Bitcoin: {valor_btc[0].text}\")\n",
    "print(f\"Data e Hora: {data[0].text[:19]}\")"
   ]
  },
  {
   "cell_type": "markdown",
   "id": "e1f9d45c",
   "metadata": {},
   "source": [
    "# Exercício 04\n",
    "\n",
    "#05 - Busca Automatizada por Produtos | Web Scraping com Python -- https://www.youtube.com/watch?v=YXLAKTLMS1c\n",
    "\n",
    "#### Obs.: Acrescentei pontos como: Encapsulamento em função, exportação de arquivo xlsx e data da cotação."
   ]
  },
  {
   "cell_type": "code",
   "execution_count": 98,
   "id": "9c18859d",
   "metadata": {
    "scrolled": false
   },
   "outputs": [
    {
     "name": "stdout",
     "output_type": "stream",
     "text": [
      "Digite o produto que deseja: cadeira\n"
     ]
    },
    {
     "ename": "AttributeError",
     "evalue": "'NoneType' object has no attribute 'text'",
     "output_type": "error",
     "traceback": [
      "\u001b[1;31m-----------------------------------------------------------------------\u001b[0m",
      "\u001b[1;31mAttributeError\u001b[0m                        Traceback (most recent call last)",
      "\u001b[1;32m<ipython-input-98-b46e8907f65c>\u001b[0m in \u001b[0;36m<module>\u001b[1;34m\u001b[0m\n\u001b[0;32m     84\u001b[0m \u001b[1;33m\u001b[0m\u001b[0m\n\u001b[0;32m     85\u001b[0m \u001b[1;31m### EXECUTANDO FUNÇÃO\u001b[0m\u001b[1;33m\u001b[0m\u001b[1;33m\u001b[0m\u001b[1;33m\u001b[0m\u001b[0m\n\u001b[1;32m---> 86\u001b[1;33m \u001b[0mrealizar_cotacao\u001b[0m\u001b[1;33m(\u001b[0m\u001b[0minput\u001b[0m\u001b[1;33m(\u001b[0m\u001b[1;34m\"Digite o produto que deseja: \"\u001b[0m\u001b[1;33m)\u001b[0m\u001b[1;33m.\u001b[0m\u001b[0mlower\u001b[0m\u001b[1;33m(\u001b[0m\u001b[1;33m)\u001b[0m\u001b[1;33m)\u001b[0m\u001b[1;33m\u001b[0m\u001b[1;33m\u001b[0m\u001b[0m\n\u001b[0m",
      "\u001b[1;32m<ipython-input-98-b46e8907f65c>\u001b[0m in \u001b[0;36mrealizar_cotacao\u001b[1;34m(produto_pesquisa)\u001b[0m\n\u001b[0;32m     62\u001b[0m \u001b[1;33m\u001b[0m\u001b[0m\n\u001b[0;32m     63\u001b[0m         \u001b[1;32mif\u001b[0m \u001b[0mtype\u001b[0m\u001b[1;33m(\u001b[0m\u001b[0mpreco_centavos\u001b[0m\u001b[1;33m)\u001b[0m \u001b[1;33m!=\u001b[0m \u001b[1;34m'NoneType'\u001b[0m\u001b[1;33m:\u001b[0m\u001b[1;33m\u001b[0m\u001b[1;33m\u001b[0m\u001b[0m\n\u001b[1;32m---> 64\u001b[1;33m             \u001b[0mpreco_centavos\u001b[0m \u001b[1;33m=\u001b[0m \u001b[0mpreco_centavos\u001b[0m\u001b[1;33m.\u001b[0m\u001b[0mtext\u001b[0m\u001b[1;33m\u001b[0m\u001b[1;33m\u001b[0m\u001b[0m\n\u001b[0m\u001b[0;32m     65\u001b[0m \u001b[1;33m\u001b[0m\u001b[0m\n\u001b[0;32m     66\u001b[0m         \u001b[1;32melse\u001b[0m\u001b[1;33m:\u001b[0m\u001b[1;33m\u001b[0m\u001b[1;33m\u001b[0m\u001b[0m\n",
      "\u001b[1;31mAttributeError\u001b[0m: 'NoneType' object has no attribute 'text'"
     ]
    }
   ],
   "source": [
    "from datetime import datetime\n",
    "from bs4 import BeautifulSoup\n",
    "import pandas as pd\n",
    "import requests\n",
    "\n",
    "def realizar_cotacao(produto_pesquisa):\n",
    "\n",
    "    ## Definindo data da cotação.\n",
    "    data_hora = datetime.now()\n",
    "    data_cotacao = data_hora.strftime('%d/%m/%Y %H:%M')\n",
    "    \n",
    "    ## TODO - Inserir a data na planilha.\n",
    "\n",
    "    ## Fazendo requisição.\n",
    "    url_base = 'https://lista.mercadolivre.com.br/'\n",
    "    response = requests.get(url_base + produto_pesquisa)\n",
    "    # print(response.text)    ## Visualização.\n",
    "\n",
    "    ## Convertendo para objeto BS.\n",
    "    site = BeautifulSoup(response.content, 'html.parser')\n",
    "    # print(site.prettify())    ## Visualização.\n",
    "\n",
    "    ## Extraindo dados dentro da classe.\n",
    "    produtos = site.find_all('div', attrs = {'class': 'ui-search-result__wrapper'})    ## Todas as informações.\n",
    "    # print(produtos[0].prettify())    ## Visualização.\n",
    "\n",
    "    # dados_produtos = []\n",
    "    for produto in produtos:    ## Extraindo informações de cada produto.\n",
    "\n",
    "        ## TODO - Fazer tratativa caso os dados venham vazios. ERRO: 'NoneType' object has no attribute 'text'.\n",
    "\n",
    "        ## Extraindo nome do produto.\n",
    "        nome = produto.find('h2', attrs = {'class': 'ui-search-item__title ui-search-item__group__element'})\n",
    "        nome_produto = nome.text\n",
    "        \n",
    "        ## Extraindo link de acesso do produto.\n",
    "        link = produto.find('a', attrs = {'class': 'ui-search-link'})\n",
    "        link_produto = link['href']\n",
    "        \n",
    "        ## Extraindo preços de produtos.\n",
    "        preco_real = produto.find('span', attrs = {'class': 'price-tag-fraction'})\n",
    "        preco_centavos = produto.find('span', attrs = {'class': 'price-tag-cents'})\n",
    "        preco_produto = preco_real.text + \",\" + preco_centavos.text    ## Concatenando valores.        \n",
    "        \n",
    "        dados_produtos.append([nome_produto, preco_produto, link_produto])\n",
    "\n",
    "    cotacoes_produtos = pd.DataFrame(dados_produtos, columns = [\"Produto\", \"Preço\", \"Link\"])\n",
    "    cotacoes_produtos.to_excel(f\"arquivos/cotacoes_{produto_pesquisa}.xlsx\", index = False)    ## Exportando arquivo xlsx.\n",
    "\n",
    "    return \"Extração realizada c/ Sucesso!!!\"\n",
    "\n",
    "\n",
    "        ## Visualizando dados.\n",
    "        # print(f\"Produto: {nome.text}\")\n",
    "        # print(f\"Preço: R$ {preco}\")\n",
    "        # print(f\"Link: {link['href']}\")\n",
    "        # print()    ## Quebra de linha.\n",
    "\n",
    "\n",
    "### EXECUTANDO FUNÇÃO\n",
    "realizar_cotacao(input(\"Digite o produto que deseja: \").lower())"
   ]
  },
  {
   "cell_type": "markdown",
   "id": "c8eb64d4",
   "metadata": {},
   "source": [
    "# Desenvolvimento \"sem rodinhas\""
   ]
  }
 ],
 "metadata": {
  "interpreter": {
   "hash": "a2c3c914b443cff0ad5844b70701a1d0a1f2dcfd87de27d77166d6c0ad930e9d"
  },
  "kernelspec": {
   "display_name": "Python 3.8.8 ('base')",
   "language": "python",
   "name": "python3"
  },
  "language_info": {
   "codemirror_mode": {
    "name": "ipython",
    "version": 3
   },
   "file_extension": ".py",
   "mimetype": "text/x-python",
   "name": "python",
   "nbconvert_exporter": "python",
   "pygments_lexer": "ipython3",
   "version": "3.8.8"
  }
 },
 "nbformat": 4,
 "nbformat_minor": 5
}
