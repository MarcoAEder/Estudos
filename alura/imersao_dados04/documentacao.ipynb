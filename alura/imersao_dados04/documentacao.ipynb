{
 "cells": [
  {
   "cell_type": "markdown",
   "metadata": {},
   "source": [
    "# Documentação - Evento Imersão Dados 04 - Alura"
   ]
  },
  {
   "cell_type": "markdown",
   "metadata": {},
   "source": [
    "## Imersão Dados\n",
    "### Aula 01 - Seu primeiro Colab com Python e Pandas"
   ]
  },
  {
   "cell_type": "markdown",
   "metadata": {},
   "source": [
    "<img src='/aula_01/bases/aula_01.jpg'>\n",
    "\n",
    "## Vídeo aula\n",
    "Pode ser acessado em: https://www.alura.com.br/imersao-dados-4/aula01-colab-python-pandas?utm_source=ActiveCampaign&utm_medium=email&utm_content=%5BImers%C3%A3o+Dados%5D+Aula+1+Liberada%21+%F0%9F%94%90&utm_campaign=%5BImers%C3%A3o%5D+%28Dados%29+Libera%C3%A7%C3%A3o+Aula+01&vgo_ee=wpP9pJN4uYi1ux2EhSfHu4vy7T5YEJ8ohjC9vauJg30%3D ou no diretório: C:\\Users\\masilva11\\Documents\\Pessoal\\Estudos\\alura\\imersao_dados04\\aula_01"
   ]
  },
  {
   "cell_type": "markdown",
   "metadata": {},
   "source": [
    "## Aula 01 - Seu primeiro Colab com Python e Pandas\n",
    "### Participe e vá mais fundo"
   ]
  },
  {
   "cell_type": "markdown",
   "metadata": {},
   "source": [
    "Olá, cientista! Boas-vindas a nossa primeira aula da Imersão Dados 4ª edição!\n",
    "\n",
    "Nesta Imersão preparamos as aulas de uma forma que você não precise instalar nada em sua máquina. Você só precisa acessar o Google Colab e começar a desenvolver o seu primeiro projeto.\n",
    "\n",
    "Hoje teremos nosso primeiro contato com Python e o famoso Pandas. Vamos utilizar diversas funcionalidades desta biblioteca para explorar dados de de anúncio de imóveis da cidade de São Paulo. Começaremos a nossa análise de dados entendendo características gerais dos nossos dados e olhando mais no detalhe para os bairros que tem imóveis a venda.\n",
    "Para ver os exercícios e todo o conteúdo que foi dado em aula, siga os passos abaixo\n",
    "\n",
    "<ul>\n",
    "    <li> Acesse o <b> notebook da aula 01 </b>. (Acesso pelo link: https://colab.research.google.com/drive/1moSUZcAzuPJvPWI2g7Bzjl0i1kp98Leh?usp=sharing ou no diretório:\n",
    "    C:\\Users\\masilva11\\Documents\\Pessoal\\Estudos\\alura\\imersao_dados04\\aula_01). </li>\n",
    "    <li> Na parte superior esquerdo, clique em >File, logo depois em >Save a copy in Drive. </li>\n",
    "    <li> Se você não estiver logado em uma conta Gmail, um pop-up solicitará que você crie ou faça login em uma conta Google. </li>\n",
    "    <li> Feito o login, uma cópia da aula é criada em seu Drive (pasta Colab Notebook, criada automaticamente). </li>\n",
    "    <li> Abra o notebook e boa diversão! </li>\n",
    "</ul>\n",
    "\n",
    "#### Links das base de dados\n",
    "\n",
    "<ul>\n",
    "    <li> Base com dados utilizados na aula. </li>\n",
    "    <li> Base de dados <b> original </b> (Acesso pelo link: https://www.kaggle.com/datasets/kaggleshashankk/house-price-data-of-sao-paulo ou no diretório: C:\\Users\\masilva11\\Documents\\Pessoal\\Estudos\\alura\\imersao_dados04\\aula_01\\bases) </li>\n",
    "</ul>\n",
    "\n",
    "#### Desafios desta aula:\n",
    "\n",
    "1 - Realizar a média da metragem para cada um dos bairros. (Proposto pelo Paulo)\n",
    "\n",
    "2 - Duas formas de selecionar os dados por bairro (consultar os métodos na documentação do Pandas). (Proposto pelo Thiago)\n",
    "\n",
    "3 - Explorar alguns gráficos na documentação e aplicar nas demais colunas do DF, assim como tentar colocar alguma conclusão. (Proposto pelo Thiago)\n",
    "\n",
    "4 - Pegar outras estatísticas dos dados (como média, mediana, mim, max). (Proposto pela Vivian)\n",
    "\n",
    "5 - Descobrir quais são os bairros que não tem nome de rua. (Proposto pela Vivian)\n",
    "\n",
    "#### Alguns lembretes e dicas\n",
    "\n",
    "<ul>\n",
    "    <li> Se tiver dificuldades ao utilizar o Colab, <b> acesse este artigo da Alura </b>. (https://www.alura.com.br/artigos/google-colab-o-que-e-e-como-usar) </li>\n",
    "    <li> Explore um pouco mais a biblioteca <b> Pandas </b>. (https://pandas.pydata.org/) </li>\n",
    "    <li> Artigo da Alura sobre <b> médias e medianas </b> (https://www.alura.com.br/artigos/media-ou-mediana-entendendo-cada-uma) </li>\n",
    "    <li> Já parou para pensar o quanto um(a) cientista de dados precisa programar? Se <b> liga neste artigo </b> (https://www.alura.com.br/artigos/cientista-de-dados-programa) </li>\n",
    "    <li> Faça os desafios deixados no final de cada aula. </li>\n",
    "    <li> Compartilhe seus experimentos com a gente e na internet, com a tag #ImersãoDados. </li>\n",
    "    <li> Se tiver dúvidas, pergunte em nosso Discord. Estaremos por lá para ajudar! </li>\n",
    "</ul>\n",
    "\n",
    "Bons estudos e até a próxima aula!"
   ]
  },
  {
   "cell_type": "markdown",
   "metadata": {},
   "source": [
    "## Imersão Dados\n",
    "### Aula 2 - Tratamento de dados e primeiros gráficos"
   ]
  },
  {
   "cell_type": "markdown",
   "metadata": {},
   "source": [
    "<img src='/aula_02/bases/aula_02.jpg'>\n",
    "\n",
    "## Vídeo aula\n",
    "Pode ser acessado em: https://www.alura.com.br/imersao-dados-4/aula02-tratamento-dados-primeiros-graficos ou no diretório: C:\\Users\\masilva11\\Documents\\Pessoal\\Estudos\\alura\\imersao_dados04\\aula_02"
   ]
  },
  {
   "cell_type": "markdown",
   "metadata": {},
   "source": [
    "## Aula 2 - Tratamento de dados e primeiros gráficos\n",
    "### Participe e vá mais fundo"
   ]
  },
  {
   "cell_type": "markdown",
   "metadata": {},
   "source": [
    "Boas-vindas à segunda aula da Imersão Dados 4ª Edição!\n",
    "\n",
    "Nesta aula avançaremos com nossas análises e vamos iniciar o tratamento dos dados para trabalhar as primeiras visualizações com <b> Seaborn </b> (https://seaborn.pydata.org/). Nesta aula teremos de quase tudo: estatística, visualização de dados e até tratamento de strings!\n",
    "\n",
    "A aula está recheada de conteúdo e discussões interessantes, então vem com a gente apreveitar mais uma aula!\n",
    "Para ver os exercícios e todo o conteúdo que foi dado em aula, siga os passos abaixo\n",
    "\n",
    "<ul>\n",
    "    <li> Acesse o <b> notebook da aula 02 </b>. (Acesso pelo link: https://colab.research.google.com/drive/1tMp3O7ZKEeNft3s1zIxWyDplqNJo15Yt?usp=sharing ou no diretório: C:\\Users\\masilva11\\Documents\\Pessoal\\Estudos\\alura\\imersao_dados04\\aula_02) </li>\n",
    "    <li> Na parte superior esquerdo, clique em >File, logo depois em >Save a copy in Drive. </li>\n",
    "    <li> Se você não estiver logado em uma conta Gmail, um pop-up solicitará que você crie ou faça login de em uma conta Google. </li>\n",
    "    <li> Feito o login uma cópia da aula é criada em seu drive (pasta Colab Notebook, criada automaticamente). </li>\n",
    "    <li> Abra o notebook e boa diversão. </li>\n",
    "</ul>\n",
    "\n",
    "#### Desafios desta aula\n",
    "\n",
    "<ul>\n",
    "    <li> Criar uma escala de valores em milhões. </li>\n",
    "    <li> Deixar o gráfico do histograma de valores legível (alterar labels, cores, título, escala). </li>\n",
    "    <li> Preço do metro quadrado por bairro e plotar em um gráfico ideal. </li>\n",
    "    <li> Explorar as bibliotecas de visualizações e colocar as suas conclusão. </li>\n",
    "    <li> Pesquisar um visualização para analisar os quartis, mediana e outliers. </li>\n",
    "</ul>\n",
    "\n",
    "#### Alguns lembretes e dicas\n",
    "\n",
    "<ul>\n",
    "    <li> Se tiver dificuldades ao utilizar o Colab, <b> acesse este artigo da Alura </b>. (https://www.alura.com.br/artigos/google-colab-o-que-e-e-como-usar) </li>\n",
    "    <li> Explore diversas visualizações no <b> Seaborn </b>. (https://seaborn.pydata.org/) </li>\n",
    "    <li> Quer conhecer um pouco mais sobre String, se <b> liga neste material </b>. (https://panda.ime.usp.br/pensepy/static/pensepy/08-Strings/strings.html) </li>\n",
    "    <li> Um <b> guia rápido </b> para o Pandas. (Acesso pelo link: https://pandas.pydata.org/Pandas_Cheat_Sheet.pdf ou no diretório: C:\\Users\\masilva11\\Documents\\Pessoal\\Estudos\\alura\\imersao_dados04\\aula_02\\bases) </li>\n",
    "</ul>\n",
    "\n",
    "#### Discord e redes sociais\n",
    "\n",
    "Participe do nosso Discord, tire suas dúvidas e ajude as outras pessoas que estão participando da Imersão. A melhor forma de aprender é ensinando.\n",
    "\n",
    "Aproveite também para compartilhar sua participação na Imersão Dados em suas redes sociais! Poste sobre seus projetos no LinkedIn, Twitter e Instagram com as hashtags #ImersãoDados e #ImersãoDados4.\n",
    "\n",
    "Bons estudos e até a próxima aula!"
   ]
  },
  {
   "cell_type": "markdown",
   "metadata": {},
   "source": [
    "## Imersão Dados\n",
    "## Aula 3 - Gráficos, Time Series e Análise Exploratória"
   ]
  },
  {
   "cell_type": "markdown",
   "metadata": {},
   "source": [
    "<img src='/aula_03/bases/aula_03.jpg'>\n",
    "\n",
    "## Vídeo aula\n",
    "Pode ser acessado em: https://www.alura.com.br/imersao-dados-4/aula03-graficos-time-series-analise-exploratoria ou no diretório: C:\\Users\\masilva11\\Documents\\Pessoal\\Estudos\\alura\\imersao_dados04\\aula_03"
   ]
  },
  {
   "cell_type": "markdown",
   "metadata": {},
   "source": [
    "## Aula 3 - Gráficos, Time Series e Análise Exploratória\n",
    "## Participe e vá mais fundo"
   ]
  },
  {
   "cell_type": "markdown",
   "metadata": {},
   "source": [
    "Boas-vindas à terceira aula da Imersão Dados 4ª Edição!\n",
    "\n",
    "Depois de um bom trabalho para tratar os dados de valores para conseguir utilziar em nossas análises chegou o momento de explorar um pouco mais esses dados, criando novas variáveis (feature engineer), discutindo sobre médias e os problemas ao utilizar médias de médias em suas análises além de explorar outras gráficos com <b>Seaborn</b> (https://seaborn.pydata.org/).\n",
    "\n",
    "Bora pra aula que ela está recheada de discussões interessantes, da estatísticas e visualização até conceitos de negócios. Então vem com a gente apreveitar mais uma aula!\n",
    "Para ver os exercícios e todo o conteúdo que foi dado em aula, siga os passos abaixo\n",
    "\n",
    "<ul>\n",
    "    <li> Acesse o <b> notebook da aula 03 </b>. (Acesso pelo link: https://colab.research.google.com/drive/1k11K_yHxYW9y0jKD3AhmQvwDBnkFowM5?usp=sharing ou no diretório: C:\\Users\\masilva11\\Documents\\Pessoal\\Estudos\\alura\\imersao_dados04\\aula_03) </li>\n",
    "    <li> Na parte superior esquerdo, clique em >File, logo depois em >Save a copy in Drive. </li>\n",
    "    <li> Se você não estiver logado em uma conta Gmail, um pop-up solicitará que você crie ou faça login de em uma conta Google. </li>\n",
    "    <li> Feito o login uma cópia da aula é criada em seu drive (pasta Colab Notebook, criada automaticamente). </li>\n",
    "    <li> Abra o notebook e boa diversão! </li>\n",
    "</ul>\n",
    "\n",
    "#### Desafios desta aula\n",
    "\n",
    "<ul>\n",
    "    <li> Tentar vincular dados do IBGE com os dados de imóveis. </li>\n",
    "    <li> Tratar os outliers e comparar com os resultados. </li>\n",
    "    <li> Agrupar por mais de uma categoria e realizar as análises. </li>\n",
    "    <li> Organize o colab para deixar com cara de projeto. </li>\n",
    "</ul>\n",
    "\n",
    "#### Extra: Time Series (Séries Temporais)\n",
    "\n",
    "    Quer conhecer outros temas relavantes na área de DS? Explore sobre as <b> Séries Temporais </b> citadas no título da aula. (https://www.alura.com.br/artigos/series-temporais-e-suas-aplicacoes)\n",
    "\n",
    "#### Alguns lembretes e dicas\n",
    "\n",
    "<ul>\n",
    "    <li> Quer entender mais sobre Boxplot? <b> Acesse este artigo da Alura </b>. (https://www.alura.com.br/artigos/melhorando-a-analise-com-o-boxplot) </li>\n",
    "    <li> Explore mais sobre Outliers <b> neste ótimo mateiral </b>. (https://towardsdatascience.com/detecting-and-treating-outliers-in-python-part-1-4ece5098b755) </li>\n",
    "    <li> Para baixar os dados do IBGE você pode acessar este <b> link </b>. (https://gist.githubusercontent.com/tgcsantos/85f8c7b0a2edbc3e27fcad619b37d886/raw/a4954781e6bca9cb804062a3eea0b3b84679daf4/Basico_SP1.csv) </li>\n",
    "    <li> Para acessar o dicionário de dados que vamos trabalhar do IBGE, é só <b> clicar aqui </b>. (Acesse pelo link: https://drive.google.com/file/d/1WVTqfKtHOOk5X1AWaSOn6NLaO7cix2m4/view ou no diretório: C:\\Users\\masilva11\\Documents\\Pessoal\\Estudos\\alura\\imersao_dados04\\aula_03\\bases) </li>\n",
    "    <li> Quer conhecer um pouco mais sobre String? Se <b> liga neste material </b>. (https://panda.ime.usp.br/pensepy/static/pensepy/08-Strings/strings.html) </li>\n",
    "    <li> Um <b> guia rápido </b> para o Pandas. (Acesse pelo link: https://pandas.pydata.org/Pandas_Cheat_Sheet.pdf ou no diretório: C:\\Users\\masilva11\\Documents\\Pessoal\\Estudos\\alura\\imersao_dados04\\aula_03\\bases) </li>\n",
    "</ul>\n",
    "\n",
    "Discord e redes sociais\n",
    "\n",
    "Participe do nosso Discord, tire suas dúvidas e ajude as outras pessoas que estão participando da Imersão. A melhor forma de aprender é ensinando.\n",
    "\n",
    "Aproveite também para compartilhar sua participação na Imersão Dados em suas redes sociais! Poste sobre seus projetos no LinkedIn, Twitter e Instagram com as hashtags #ImersãoDados e #ImersãoDados4.\n",
    "\n",
    "Bons estudos e até a próxima aula!"
   ]
  },
  {
   "cell_type": "markdown",
   "metadata": {},
   "source": [
    "## Imersão Dados\n",
    "## Aula 4 - Missão Impossivel: Cruzando bases de Dados"
   ]
  },
  {
   "cell_type": "markdown",
   "metadata": {},
   "source": [
    "<img src='/aula_04/bases/aula_04.jpg'>\n",
    "\n",
    "## Vídeo aula\n",
    "Pode ser acessado em: https://www.alura.com.br/imersao-dados-4/aula04-cruzando-bases-dados ou no diretório: C:\\Users\\masilva11\\Documents\\Pessoal\\Estudos\\alura\\imersao_dados04\\aula_04"
   ]
  },
  {
   "cell_type": "markdown",
   "metadata": {},
   "source": [
    "## Aula 4 - Missão Impossivel: Cruzando bases de Dados\n",
    "## Participe e vá mais fundo"
   ]
  },
  {
   "cell_type": "markdown",
   "metadata": {},
   "source": [
    "Boas-vindas à quarta aula da Imersão Dados 4ª Edição!\n",
    "\n",
    "Chegamos a famosa quarta aula da Imersão, apelidada carinhosamente pelo Paulo Silveira como Missão Impossível. Mas não se preocupe! Ela é mais complexa que as outras aulas, entretanto não há o que temer. No notebook da aula está todo passo a passo. Você pode primeiro acompanhar o vídeo e depois reproduzir o código.\n",
    "\n",
    "Na nossa base de dados temos algumas poucas informações sobre o imóvel. Uma opção que temos é vincular e enriquecer os nossos dados com informações extras. É exatamente isso que faremos hoje: vamos cruzar os dados que temos com dados do IBGE.\n",
    "\n",
    "Para executar essa tarefa vamos trabalhar com dados de geolocalização, CEPs, conceitos geometria computacional e muito mais.\n",
    "Para ver os exercícios e todo o conteúdo que foi dado em aula, siga os passos abaixo\n",
    "\n",
    "<ul>\n",
    "    Acesse <b> notebook da aula 04, com todo código trabalhando em aula </b>. (Acesse pelo link: https://colab.research.google.com/drive/1WzaYKTJuVoQ1_WeVdBwKsmkCV9PU7IGD?usp=sharing ou no diretório: C:\\Users\\masilva11\\Documents\\Pessoal\\Estudos\\alura\\imersao_dados04\\aula_04)\n",
    "    Se você está cheio de dúvidas de como realizamos os cruzamentos entre as bases de dados, esse <b> artigo da Creditas </b> pode te ajudar! (https://medium.com/creditas-tech/incrementando-dados-geogr%C3%A1ficos-com-o-censo-nacional-do-ibge-54d342c4bdcf)\n",
    "    Nesta aula vamos precisar da base de dados de endereços. Baixe <b> neste link </b> e salvar no seu drive. (Acesse pelo link: https://drive.google.com/file/d/1u2qPFtYaE4of3Vb3d7yQEVEbS5FdQ_FP/view ou no repositório: C:\\Users\\masilva11\\Documents\\Pessoal\\Estudos\\alura\\imersao_dados04\\aula_04\\bases)\n",
    "    Também precisaremos dos dados dos <b> setores censitários </b>. Não esqueça que você precisa dos 4 arquivos na mesma pasta para leitura. (Acesse pelo link: https://drive.google.com/drive/folders/1CycoanzYN2oxKHPO6zxvIQ6Og1LBcujv ou no repositório: )\n",
    "    Se você não reproduziu o código sozinho, não se preocupe! Aqui você acessa a <b> base dados_geo </b> e aqui a <b> base dados_vendas_censo </b> (Acesso pelos links: https://drive.google.com/file/d/1KyaCnwYt3vVV_7O0VktZorRhsMWD9hQQ/view // https://drive.google.com/file/d/1iAFJhgMUquxsbGxM1pWz9BLjpC9SULKr/view e repositório: C:\\Users\\masilva11\\Documents\\Pessoal\\Estudos\\alura\\imersao_dados04\\aula_04\\bases)\n",
    "    Na parte superior esquerdo, clique em >File, logo depois em >Save a copy in Drive.\n",
    "    Se você não estiver logado em uma conta Gmail, um pop-up solicitará que você crie ou faça login de em uma conta Google.\n",
    "    Feito o login uma cópia da aula é criada em seu drive (pasta Colab Notebook, criada automaticamente).\n",
    "    Abra o notebook e boa diversão.\n",
    "</ul>\n",
    "\n",
    "#### Desafios desta aula\n",
    "\n",
    "<ul>\n",
    "    1 - Realizar uma análise dos dados do IBGE por mapa, <b> analisando a distribuição de renda </b>. (https://medium.com/creditas-tech/dados-georreferenciados-explora%C3%A7%C3%A3o-e-visualiza%C3%A7%C3%A3o-com-python-edd51e7c53da)\n",
    "\n",
    "    2 - Repassar a aula para entender melhor o que foi realizado.\n",
    "\n",
    "    3 - Aprofundar a análise entre dados de vendas e renda.\n",
    "\n",
    "    4 - Realizar a análise exploratória e encontrar variáveis relevantes para solução do problema.\n",
    "</ul>\n",
    "\n",
    "#### Alguns lembretes e dicas\n",
    "\n",
    "<ul>\n",
    "    Que tal aprender mais sobre Geopandas com este <b> artigo da Creditas </b>! (https://medium.com/creditas-tech/dados-georreferenciados-explora%C3%A7%C3%A3o-e-visualiza%C3%A7%C3%A3o-com-python-edd51e7c53da)\n",
    "    Podemos usar dados do IBGE para criar novas features, de uma maneira diferente que fizemos em aula. Se liga <b> neste artigo </b>! (https://medium.com/creditas-tech/criando-features-de-machine-learning-a-partir-de-nomes-de-cidades-7149fae7778e)\n",
    "    Quer entender mais sobre Boxplot? <b> Acesse este artigo da Alura </b>. (https://www.alura.com.br/artigos/melhorando-a-analise-com-o-boxplot)\n",
    "    Para baixar os dados do IBGE você pode acessar <b> esse link </b> (https://gist.githubusercontent.com/tgcsantos/85f8c7b0a2edbc3e27fcad619b37d886/raw/a4954781e6bca9cb804062a3eea0b3b84679daf4/Basico_SP1.csv)\n",
    "    Para acessar o dicionário de dados do IBGE que estamos trabalhando, é só <b> clicar aqui </b> (Acesso pelo link: https://drive.google.com/file/d/1WVTqfKtHOOk5X1AWaSOn6NLaO7cix2m4/view ou no repositório: C:\\Users\\masilva11\\Documents\\Pessoal\\Estudos\\alura\\imersao_dados04\\aula_04\\bases)\n",
    "    Que tal explorar mais sobre <b> GeoPandas </b> (https://geopandas.org/en/stable/)\n",
    "    Quer conhecer um pouco mais sobre String, se <b> liga neste material </b>. (https://panda.ime.usp.br/pensepy/static/pensepy/08-Strings/strings.html)\n",
    "    Um <b> guia rápido </b> para o Pandas. (Acesso pelo link: https://pandas.pydata.org/Pandas_Cheat_Sheet.pdf ou no repositório: C:\\Users\\masilva11\\Documents\\Pessoal\\Estudos\\alura\\imersao_dados04\\aula_04\\bases)\n",
    "</ul>\n",
    "\n",
    "#### Discord e redes sociais\n",
    "\n",
    "Participe do nosso Discord, tire suas dúvidas e ajude as outras pessoas que estão participando da Imersão. A melhor forma de aprender é ensinando!\n",
    "\n",
    "Aproveite também para compartilhar sua participação na Imersão Dados em suas redes sociais! Poste sobre seus projetos no LinkedIn, Twitter e Instagram com as hashtags #ImersãoDados e #ImersãoDados4.\n",
    "\n",
    "Bons estudos e até a próxima aula!"
   ]
  },
  {
   "cell_type": "markdown",
   "metadata": {},
   "source": [
    "## Imersão Dados\n",
    "## Aula 5 - Machine Learning"
   ]
  },
  {
   "cell_type": "markdown",
   "metadata": {},
   "source": [
    "<img src='/aula_05/bases/aula_05.jpg'>\n",
    "\n",
    "## Vídeo aula\n",
    "Pode ser acessado em: https://www.alura.com.br/imersao-dados-4/aula05-machine-learning ou no diretório: C:\\Users\\masilva11\\Documents\\Pessoal\\Estudos\\alura\\imersao_dados04\\aula_05"
   ]
  },
  {
   "cell_type": "markdown",
   "metadata": {},
   "source": [
    "## Aula 5 - Machine Learning\n",
    "## Participe e vá mais fundo"
   ]
  },
  {
   "cell_type": "markdown",
   "metadata": {},
   "source": [
    "Boas-vindas à nossa última aula da Imersão Dados 4ª Edição!\n",
    "\n",
    "Finalmente chegamos a aula de Machine Learning, o grande dia de criar uma IA que irá resolver todos os problemas... Bom, a verdade é que todos gostaríamos que isso fosse verdade, entretanto veremos na aula que as coisas não são tão simples assim. Para chegar em um resultado considerável, precisariámos de um tempo maior para explorar diversos algorítmos, coletar mais dados e avançar mais na exploração dos resultados... mas pode se tranquilizar! Teremos uma aula incrível para começar nossos primeiros passos em Machine Learning.\n",
    "\n",
    "Lembre-se que o mais relevante não é o resultado, e sim entender a linha de pensamento, o que conseguimos resolver com Machine Learning, os pontos de atenção e dar os primeiros passos no desenvolvimento de modelos de ML.\n",
    "\n",
    "Esta aula está recheada de coisas novas e interessantes. Vamos entender o que são problemas de regressão, classificação, como treinar um modelo de Machine Lerning usando o Sci-Kit Learning e muito mais.\n",
    "\n",
    "Para ver os exercícios e todo o conteúdo que foi dado em aula, siga os passos abaixo\n",
    "\n",
    "<ul>\n",
    "    Acesse <b> notebook da aula 05, com todo código trabalhando em aula </b>. (Acesse pelo link: https://colab.research.google.com/drive/1vb_cm77CDEfR171EcN6sHKEaNgKPXzqE?usp=sharing ou no diretório: C:\\Users\\masilva11\\Documents\\Pessoal\\Estudos\\alura\\imersao_dados04\\aula_05)\n",
    "    Nesta aula vamos precisar da base de dados já tratadas. Baixe <b> neste link </b> e salvar no seu drive. (Acesse pelo link: https://drive.google.com/file/d/1iAFJhgMUquxsbGxM1pWz9BLjpC9SULKr/view ou no diretório: C:\\Users\\masilva11\\Documents\\Pessoal\\Estudos\\alura\\imersao_dados04\\aula_05\\bases)\n",
    "    Na parte superior esquerdo, clique em >File, logo depois em >Save a copy in Drive.\n",
    "    Se você não estiver logado em uma conta Gmail, um pop-up solicitará que você crie ou faça login de em uma conta Google.\n",
    "    Feito o login uma cópia da aula é criada em seu drive (pasta Colab Notebook, criada automaticamente).\n",
    "    Abra o notebook e boa diversão.\n",
    "</ul>\n",
    "\n",
    "#### Desafios desta aula\n",
    "\n",
    "<ul>\n",
    "    1 - Adicionar o valor \"real\" do m² do imóvel.\n",
    "\n",
    "    2 - Testar outro modelo de regressão.\n",
    "\n",
    "    3 - Criar um modelo baseline com as features originais.\n",
    "\n",
    "    4 - Trabalhar mais nos dados e criar novas variáveis.\n",
    "\n",
    "    5 - Testar as predições para casos reais.\n",
    "\n",
    "    6 - Criar um projeto com os resultados da Imersão e postar nas redes sociais mostrando o trabalho realizado. Lembre-se de marcar a @AluraOnline e utilizar as hashtags #ImersãoDados e #ImersãoDados4.\n",
    "</ul>\n",
    "\n",
    "#### Alguns lembretes e dicas\n",
    "\n",
    "<ul>\n",
    "    Que tal explorar a documentação do <b> Scikit-learn </b> (https://scikit-learn.org/stable/)\n",
    "    Quer saber mais sobre correlação este <b> material é ótimo </b> (https://en.wikipedia.org/wiki/Correlation)\n",
    "    Que tal desmistificar alguns <b> termos em ML </b> (https://www.alura.com.br/artigos/desmistificando-termos-machine-learning-tipos-aprendizado)\n",
    "    Você também pode entender mais sobre a <b> maldição da dimensionalidade </b> (https://en.wikipedia.org/wiki/Curse_of_dimensionality)\n",
    "    Quer conhecer um pouco mais sobre String, se <b> liga neste material </b>. (https://panda.ime.usp.br/pensepy/static/pensepy/08-Strings/strings.html)\n",
    "    Um <b> guia rápido </b> para o Pandas. (Acesse pelo link: https://pandas.pydata.org/Pandas_Cheat_Sheet.pdf ou no diretório: C:\\Users\\masilva11\\Documents\\Pessoal\\Estudos\\alura\\imersao_dados04\\aula_05\\bases)\n",
    "</ul>\n",
    "\n",
    "#### Discord e redes sociais\n",
    "\n",
    "Participe do nosso Discord, tire suas dúvidas e ajude as outras pessoas que estão participando da Imersão. A melhor forma de aprender é ensinando!\n",
    "\n",
    "Aproveite também para compartilhar sua participação na Imersão Dados em suas redes sociais! Poste sobre seus projetos no LinkedIn, Twitter e Instagram com as hashtags #ImersãoDados e #ImersãoDados4.\n",
    "\n",
    "Bons estudos!"
   ]
  }
 ],
 "metadata": {
  "interpreter": {
   "hash": "a2c3c914b443cff0ad5844b70701a1d0a1f2dcfd87de27d77166d6c0ad930e9d"
  },
  "kernelspec": {
   "display_name": "Python 3.8.8 ('base')",
   "language": "python",
   "name": "python3"
  },
  "language_info": {
   "name": "python",
   "version": "3.8.8"
  },
  "orig_nbformat": 4
 },
 "nbformat": 4,
 "nbformat_minor": 2
}
